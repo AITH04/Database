{
  "nbformat": 4,
  "nbformat_minor": 0,
  "metadata": {
    "colab": {
      "name": "資料庫寫入程式碼.ipynb",
      "provenance": [],
      "collapsed_sections": [],
      "authorship_tag": "ABX9TyPELiQrljqn1X78/ne5YCji",
      "include_colab_link": true
    },
    "kernelspec": {
      "name": "python3",
      "display_name": "Python 3"
    }
  },
  "cells": [
    {
      "cell_type": "markdown",
      "metadata": {
        "id": "view-in-github",
        "colab_type": "text"
      },
      "source": [
        "<a href=\"https://colab.research.google.com/github/AITH04/Database/blob/master/%E8%B3%87%E6%96%99%E5%BA%AB%E7%9B%B8%E9%97%9C%E7%A8%8B%E5%BC%8F%E7%A2%BC.ipynb\" target=\"_parent\"><img src=\"https://colab.research.google.com/assets/colab-badge.svg\" alt=\"Open In Colab\"/></a>"
      ]
    },
    {
      "cell_type": "markdown",
      "metadata": {
        "id": "xXFK3dVe2s4x",
        "colab_type": "text"
      },
      "source": [
        "SQL語法內不要使用雙引號，一律使用單引號。"
      ]
    },
    {
      "cell_type": "markdown",
      "metadata": {
        "id": "APOd1RcCeWeT",
        "colab_type": "text"
      },
      "source": [
        "# 請輸入資料庫帳號密碼(必)"
      ]
    },
    {
      "cell_type": "code",
      "metadata": {
        "id": "hQTzFNx7iE5_",
        "colab_type": "code",
        "colab": {}
      },
      "source": [
        "username=input('請輸入資料庫username:')\n",
        "password=input('請輸入資料庫password:')"
      ],
      "execution_count": null,
      "outputs": []
    },
    {
      "cell_type": "markdown",
      "metadata": {
        "colab_type": "text",
        "id": "xy9pguWSvkyE"
      },
      "source": [
        "# 連線資料庫(必)"
      ]
    },
    {
      "cell_type": "code",
      "metadata": {
        "id": "kNLkNpSgvgNR",
        "colab_type": "code",
        "colab": {}
      },
      "source": [
        "import psycopg2\n",
        "import psycopg2.DatabaseError\n",
        "conn=psycopg2.connect(database=\"gift_expert_testenv\",user=username,password=password,host=\"172.104.89.11\",port=\"5432\")\n",
        "cur=conn.cursor()\n",
        "print('Connection successful!')"
      ],
      "execution_count": null,
      "outputs": []
    },
    {
      "cell_type": "markdown",
      "metadata": {
        "id": "sShhdXlgxMNi",
        "colab_type": "text"
      },
      "source": [
        "# 選取資料(選)"
      ]
    },
    {
      "cell_type": "code",
      "metadata": {
        "id": "_nYW4Muoxhp9",
        "colab_type": "code",
        "colab": {}
      },
      "source": [
        "#SQL-修改需要查詢的欄位(*表示全部欄位) table名稱 搜尋條件\n",
        "SQL1=\"SELECT * FROM tablename WHERE column = 'value'\"\n",
        "try:\n",
        "    cur.execute(SQL1)\n",
        "    records = cur.fetchall()\n",
        "except psycopg2.DatabaseError as error:\n",
        "    print(f'Error{error}')\n",
        "\n",
        "print(records)"
      ],
      "execution_count": null,
      "outputs": []
    },
    {
      "cell_type": "markdown",
      "metadata": {
        "colab_type": "text",
        "id": "oMPfa5jCvYX5"
      },
      "source": [
        "# 新增資料(選)"
      ]
    },
    {
      "cell_type": "code",
      "metadata": {
        "colab_type": "code",
        "id": "Z1NKnnm7vNBc",
        "colab": {}
      },
      "source": [
        "#給予資料變數值\n",
        "\n",
        "#SQL-修改table名稱 column名稱 data對應的變數\n",
        "SQL2 = \"INSERT INTO products(column1,column2,column3,column4,column5) VALUES(%s, %s, %s, %s, %s)\"\n",
        "data=(value1,value2,value3,value4,value5)\n",
        "    try:            \n",
        "        cur.execute(SQL2, data)\n",
        "        conn.commit()\n",
        "        print(f\"====================新增1筆資料==========================\")\n",
        "    except psycopg2.DatabaseError as error:\n",
        "        print(f'Error{error}')"
      ],
      "execution_count": null,
      "outputs": []
    },
    {
      "cell_type": "markdown",
      "metadata": {
        "colab_type": "text",
        "id": "OFAE9znqyyuI"
      },
      "source": [
        "# 更新資料(選)"
      ]
    },
    {
      "cell_type": "code",
      "metadata": {
        "colab_type": "code",
        "id": "MrPi3W_iyp5n",
        "colab": {}
      },
      "source": [
        "#給予資料變數值\n",
        "\n",
        "#SQL-修改table名稱 column名稱及欲修改成的值 選取條件\n",
        "SQL3 = \"UPDATE tablename SET (column1, column2 )= ('value1','value2') WHERE page_id= XXXX;\"\n",
        "    try:            \n",
        "        cur.execute(SQL3)\n",
        "        conn.commit()\n",
        "        print(f\"====================更新1筆資料==========================\")\n",
        "    except psycopg2.DatabaseError as error:\n",
        "        print(f'Error{error}')\n",
        "\n",
        "# 透過查詢檢查結果:\n",
        "# SQL = SELECT * FROM tablename WHERE column = 'value'\n",
        "# cur.execute(SQL)\n",
        "# records = cur.fetchall()"
      ],
      "execution_count": null,
      "outputs": []
    },
    {
      "cell_type": "markdown",
      "metadata": {
        "id": "652nFxRlv7Uq",
        "colab_type": "text"
      },
      "source": [
        "# 結束資料庫連線(必)"
      ]
    },
    {
      "cell_type": "code",
      "metadata": {
        "colab_type": "code",
        "id": "wY8eS82Rv4S4",
        "colab": {}
      },
      "source": [
        "conn.close()"
      ],
      "execution_count": null,
      "outputs": []
    }
  ]
}